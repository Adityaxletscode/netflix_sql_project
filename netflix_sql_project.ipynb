{
  "nbformat": 4,
  "nbformat_minor": 0,
  "metadata": {
    "colab": {
      "provenance": [],
      "authorship_tag": "ABX9TyNlxN8qyxslYHxUqXNIhEPb",
      "include_colab_link": true
    },
    "kernelspec": {
      "name": "python3",
      "display_name": "Python 3"
    },
    "language_info": {
      "name": "python"
    }
  },
  "cells": [
    {
      "cell_type": "markdown",
      "metadata": {
        "id": "view-in-github",
        "colab_type": "text"
      },
      "source": [
        "<a href=\"https://colab.research.google.com/github/Adityaxletscode/netflix_sql_project/blob/main/netflix_sql_project.ipynb\" target=\"_parent\"><img src=\"https://colab.research.google.com/assets/colab-badge.svg\" alt=\"Open In Colab\"/></a>"
      ]
    },
    {
      "cell_type": "code",
      "execution_count": 1,
      "metadata": {
        "id": "WI65YCjt6b5n"
      },
      "outputs": [],
      "source": [
        "import pandas as pd;\n",
        "import sqlite3;\n",
        "import matplotlib.pyplot as plt;"
      ]
    },
    {
      "cell_type": "markdown",
      "source": [
        "Load CSV"
      ],
      "metadata": {
        "id": "5Q7Pv_3O7I5b"
      }
    },
    {
      "cell_type": "code",
      "source": [
        "df=pd.read_csv(\"/content/netflix_titles.csv\");"
      ],
      "metadata": {
        "id": "IGQYzzlh6kws"
      },
      "execution_count": 2,
      "outputs": []
    },
    {
      "cell_type": "markdown",
      "source": [
        "Connect to SQLite (creates file if not exists)"
      ],
      "metadata": {
        "id": "Sqws8LUt7O6U"
      }
    },
    {
      "cell_type": "code",
      "source": [
        "conn = sqlite3.connect(\"netflix.db\");"
      ],
      "metadata": {
        "id": "cWhm-itq628w"
      },
      "execution_count": 3,
      "outputs": []
    },
    {
      "cell_type": "markdown",
      "source": [
        "Store CSV data into SQLite table"
      ],
      "metadata": {
        "id": "zZmPvI9d7c9I"
      }
    },
    {
      "cell_type": "code",
      "source": [
        "df.to_sql(\"netflix\", conn, if_exists=\"replace\", index=False);"
      ],
      "metadata": {
        "id": "R7FCXqNl663R"
      },
      "execution_count": 4,
      "outputs": []
    },
    {
      "cell_type": "markdown",
      "source": [
        "Run SQL query (example: count content type)"
      ],
      "metadata": {
        "id": "KjedzySv7fXn"
      }
    },
    {
      "cell_type": "code",
      "source": [
        "query = \"\"\"\n",
        "SELECT type, COUNT(*) as count\n",
        "FROM netflix\n",
        "GROUP BY type\n",
        "\"\"\"\n",
        "result = pd.read_sql(query, conn);"
      ],
      "metadata": {
        "id": "EH5nhmtW6-gr"
      },
      "execution_count": 5,
      "outputs": []
    },
    {
      "cell_type": "markdown",
      "source": [
        "Visualize"
      ],
      "metadata": {
        "id": "8Ke8z1Nv7l_N"
      }
    },
    {
      "cell_type": "code",
      "source": [
        "plt.bar(result[\"type\"], result[\"count\"])\n",
        "plt.title(\"Content Type Distribution on Netflix\")\n",
        "plt.xlabel(\"Type\")\n",
        "plt.ylabel(\"Count\")\n",
        "plt.show()"
      ],
      "metadata": {
        "colab": {
          "base_uri": "https://localhost:8080/",
          "height": 472
        },
        "id": "8hdxrDI47C4v",
        "outputId": "d15180ff-c6cc-4b39-df61-e9bfb8abfbf5"
      },
      "execution_count": 6,
      "outputs": [
        {
          "output_type": "display_data",
          "data": {
            "text/plain": [
              "<Figure size 640x480 with 1 Axes>"
            ],
            "image/png": "[encoded data removed]"
          },
          "metadata": {}
        }
      ]
    },
    {
      "cell_type": "code",
      "source": [],
      "metadata": {
        "id": "55OCdNVk7FD0"
      },
      "execution_count": null,
      "outputs": []
    }
  ]
}